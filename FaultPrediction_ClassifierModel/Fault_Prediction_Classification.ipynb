{
 "cells": [
  {
   "cell_type": "markdown",
   "metadata": {},
   "source": [
    "# Data Preparation File"
   ]
  },
  {
   "cell_type": "code",
   "execution_count": 1,
   "metadata": {},
   "outputs": [
    {
     "name": "stdout",
     "output_type": "stream",
     "text": [
      "Done Importing\n"
     ]
    }
   ],
   "source": [
    "# Load libaries\n",
    "import pandas as pd\n",
    "import numpy as np\n",
    "pd.plotting.register_matplotlib_converters()\n",
    "from sklearn.preprocessing import LabelEncoder\n",
    "from sklearn import preprocessing\n",
    "from sklearn.metrics import mean_absolute_error\n",
    "from sklearn.model_selection import train_test_split\n",
    "from sklearn.tree import DecisionTreeRegressor\n",
    "from sklearn.preprocessing import MinMaxScaler\n",
    "import matplotlib.pyplot as plt\n",
    "%matplotlib inline\n",
    "import seaborn as sns\n",
    "\n",
    "color = sns.color_palette()\n",
    "sns.set_style('darkgrid')\n",
    "# pd.set_option('max_rows', 10)\n",
    "\n",
    "print(\"Done Importing\")"
   ]
  },
  {
   "cell_type": "code",
   "execution_count": 50,
   "metadata": {},
   "outputs": [
    {
     "name": "stdout",
     "output_type": "stream",
     "text": [
      "Event Type shape:  (31170, 2)\n",
      "Log Feature shape:  (58671, 3)\n",
      "Resource Type shape:  (21076, 2)\n",
      "Severity Type shape:  (18552, 2)\n",
      "Train shape:  (7381, 3)\n"
     ]
    }
   ],
   "source": [
    "event_type = pd.read_csv(\"data/event_type.csv\")\n",
    "log_feature = pd.read_csv(\"data/log_feature.csv\")\n",
    "resource_type = pd.read_csv(\"data/resource_type.csv\")\n",
    "severity_type = pd.read_csv(\"data/severity_type.csv\")\n",
    "train = pd.read_csv(\"data/train.csv\")\n",
    "print(\"Event Type shape: \",event_type.shape )\n",
    "print(\"Log Feature shape: \",log_feature.shape )\n",
    "print(\"Resource Type shape: \",resource_type.shape )\n",
    "print(\"Severity Type shape: \",severity_type.shape )\n",
    "print(\"Train shape: \",train.shape )"
   ]
  },
  {
   "cell_type": "raw",
   "metadata": {},
   "source": [
    "# MERGE DATA SETS"
   ]
  },
  {
   "cell_type": "markdown",
   "metadata": {},
   "source": [
    "# '''\n",
    "how - specifies the type of merge to be performed either left, right, outer, inner or cross\n",
    "Note: If type is not specified, it is defaulted to inner\n",
    "\n",
    "how = left means use keys from left dataframe to join and preserve the key order.\n",
    "This type of join is called Left Join\n",
    "\n",
    "how = right means use keys from right dataframe to join and preserve the key order.\n",
    "This type of join is called Right Join\n",
    "\n",
    "how = outer means use union of keys from both dataframes.\n",
    "This type of join is called Outer Join.\n",
    "\n",
    "how = inner, this is a default pandas Join type. Uses intersection of keys from both dataframes to generate a new dataframe.\n",
    "This type of Join is called Inner Join.\n",
    "\n",
    "how = cross, this is used to get a dataframe that is  the cartesian product of  two dataframes\n",
    "\n",
    "\n",
    "left_on = 'id', means column name to join on in the left dataframe\n",
    "\n",
    "right_on = 'id' means column name to join on in the right dataframe\n",
    "'''"
   ]
  },
  {
   "cell_type": "code",
   "execution_count": 51,
   "metadata": {},
   "outputs": [
    {
     "name": "stdout",
     "output_type": "stream",
     "text": [
      "Merged data file info: \n",
      "\n"
     ]
    },
    {
     "data": {
      "text/html": [
       "<div>\n",
       "<style scoped>\n",
       "    .dataframe tbody tr th:only-of-type {\n",
       "        vertical-align: middle;\n",
       "    }\n",
       "\n",
       "    .dataframe tbody tr th {\n",
       "        vertical-align: top;\n",
       "    }\n",
       "\n",
       "    .dataframe thead th {\n",
       "        text-align: right;\n",
       "    }\n",
       "</style>\n",
       "<table border=\"1\" class=\"dataframe\">\n",
       "  <thead>\n",
       "    <tr style=\"text-align: right;\">\n",
       "      <th></th>\n",
       "      <th>id</th>\n",
       "      <th>location</th>\n",
       "      <th>fault_severity</th>\n",
       "      <th>severity_type</th>\n",
       "      <th>resource_type</th>\n",
       "      <th>log_feature</th>\n",
       "      <th>volume</th>\n",
       "      <th>event_type</th>\n",
       "    </tr>\n",
       "  </thead>\n",
       "  <tbody>\n",
       "    <tr>\n",
       "      <th>0</th>\n",
       "      <td>14121</td>\n",
       "      <td>location 118</td>\n",
       "      <td>1</td>\n",
       "      <td>severity_type 2</td>\n",
       "      <td>resource_type 2</td>\n",
       "      <td>feature 312</td>\n",
       "      <td>19</td>\n",
       "      <td>event_type 34</td>\n",
       "    </tr>\n",
       "    <tr>\n",
       "      <th>1</th>\n",
       "      <td>14121</td>\n",
       "      <td>location 118</td>\n",
       "      <td>1</td>\n",
       "      <td>severity_type 2</td>\n",
       "      <td>resource_type 2</td>\n",
       "      <td>feature 312</td>\n",
       "      <td>19</td>\n",
       "      <td>event_type 35</td>\n",
       "    </tr>\n",
       "    <tr>\n",
       "      <th>2</th>\n",
       "      <td>14121</td>\n",
       "      <td>location 118</td>\n",
       "      <td>1</td>\n",
       "      <td>severity_type 2</td>\n",
       "      <td>resource_type 2</td>\n",
       "      <td>feature 232</td>\n",
       "      <td>19</td>\n",
       "      <td>event_type 34</td>\n",
       "    </tr>\n",
       "    <tr>\n",
       "      <th>3</th>\n",
       "      <td>14121</td>\n",
       "      <td>location 118</td>\n",
       "      <td>1</td>\n",
       "      <td>severity_type 2</td>\n",
       "      <td>resource_type 2</td>\n",
       "      <td>feature 232</td>\n",
       "      <td>19</td>\n",
       "      <td>event_type 35</td>\n",
       "    </tr>\n",
       "    <tr>\n",
       "      <th>4</th>\n",
       "      <td>9320</td>\n",
       "      <td>location 91</td>\n",
       "      <td>0</td>\n",
       "      <td>severity_type 2</td>\n",
       "      <td>resource_type 2</td>\n",
       "      <td>feature 315</td>\n",
       "      <td>200</td>\n",
       "      <td>event_type 34</td>\n",
       "    </tr>\n",
       "    <tr>\n",
       "      <th>...</th>\n",
       "      <td>...</td>\n",
       "      <td>...</td>\n",
       "      <td>...</td>\n",
       "      <td>...</td>\n",
       "      <td>...</td>\n",
       "      <td>...</td>\n",
       "      <td>...</td>\n",
       "      <td>...</td>\n",
       "    </tr>\n",
       "    <tr>\n",
       "      <th>61834</th>\n",
       "      <td>15189</td>\n",
       "      <td>location 7</td>\n",
       "      <td>0</td>\n",
       "      <td>severity_type 1</td>\n",
       "      <td>resource_type 8</td>\n",
       "      <td>feature 55</td>\n",
       "      <td>10</td>\n",
       "      <td>event_type 11</td>\n",
       "    </tr>\n",
       "    <tr>\n",
       "      <th>61835</th>\n",
       "      <td>15189</td>\n",
       "      <td>location 7</td>\n",
       "      <td>0</td>\n",
       "      <td>severity_type 1</td>\n",
       "      <td>resource_type 8</td>\n",
       "      <td>feature 70</td>\n",
       "      <td>1</td>\n",
       "      <td>event_type 11</td>\n",
       "    </tr>\n",
       "    <tr>\n",
       "      <th>61836</th>\n",
       "      <td>17067</td>\n",
       "      <td>location 885</td>\n",
       "      <td>0</td>\n",
       "      <td>severity_type 1</td>\n",
       "      <td>resource_type 8</td>\n",
       "      <td>feature 81</td>\n",
       "      <td>1</td>\n",
       "      <td>event_type 11</td>\n",
       "    </tr>\n",
       "    <tr>\n",
       "      <th>61837</th>\n",
       "      <td>17067</td>\n",
       "      <td>location 885</td>\n",
       "      <td>0</td>\n",
       "      <td>severity_type 1</td>\n",
       "      <td>resource_type 8</td>\n",
       "      <td>feature 191</td>\n",
       "      <td>1</td>\n",
       "      <td>event_type 11</td>\n",
       "    </tr>\n",
       "    <tr>\n",
       "      <th>61838</th>\n",
       "      <td>17067</td>\n",
       "      <td>location 885</td>\n",
       "      <td>0</td>\n",
       "      <td>severity_type 1</td>\n",
       "      <td>resource_type 8</td>\n",
       "      <td>feature 70</td>\n",
       "      <td>1</td>\n",
       "      <td>event_type 11</td>\n",
       "    </tr>\n",
       "  </tbody>\n",
       "</table>\n",
       "<p>61839 rows × 8 columns</p>\n",
       "</div>"
      ],
      "text/plain": [
       "          id      location  fault_severity    severity_type    resource_type  \\\n",
       "0      14121  location 118               1  severity_type 2  resource_type 2   \n",
       "1      14121  location 118               1  severity_type 2  resource_type 2   \n",
       "2      14121  location 118               1  severity_type 2  resource_type 2   \n",
       "3      14121  location 118               1  severity_type 2  resource_type 2   \n",
       "4       9320   location 91               0  severity_type 2  resource_type 2   \n",
       "...      ...           ...             ...              ...              ...   \n",
       "61834  15189    location 7               0  severity_type 1  resource_type 8   \n",
       "61835  15189    location 7               0  severity_type 1  resource_type 8   \n",
       "61836  17067  location 885               0  severity_type 1  resource_type 8   \n",
       "61837  17067  location 885               0  severity_type 1  resource_type 8   \n",
       "61838  17067  location 885               0  severity_type 1  resource_type 8   \n",
       "\n",
       "       log_feature  volume     event_type  \n",
       "0      feature 312      19  event_type 34  \n",
       "1      feature 312      19  event_type 35  \n",
       "2      feature 232      19  event_type 34  \n",
       "3      feature 232      19  event_type 35  \n",
       "4      feature 315     200  event_type 34  \n",
       "...            ...     ...            ...  \n",
       "61834   feature 55      10  event_type 11  \n",
       "61835   feature 70       1  event_type 11  \n",
       "61836   feature 81       1  event_type 11  \n",
       "61837  feature 191       1  event_type 11  \n",
       "61838   feature 70       1  event_type 11  \n",
       "\n",
       "[61839 rows x 8 columns]"
      ]
     },
     "execution_count": 51,
     "metadata": {},
     "output_type": "execute_result"
    }
   ],
   "source": [
    "# merging data files\n",
    "print(\"Merged data file info: \")\n",
    "print()\n",
    "\n",
    "train_1 = train.merge(severity_type, how = 'left', left_on='id', right_on='id')\n",
    "# train_1\n",
    "train_2 = train_1.merge(resource_type, how = 'left', left_on='id', right_on='id')\n",
    "# train_2\n",
    "train_3 = train_2.merge(log_feature, how = 'left', left_on='id', right_on='id')\n",
    "# train_3\n",
    "train_4 = train_3.merge(event_type, how = 'left', left_on='id', right_on='id')\n",
    "train_4\n",
    "\n"
   ]
  },
  {
   "cell_type": "markdown",
   "metadata": {},
   "source": [
    "# DATA CLEANING"
   ]
  },
  {
   "cell_type": "markdown",
   "metadata": {},
   "source": [
    "'''\n",
    "drop_duplicates() is the method used to drop duplicate in pandas. \n",
    "This method will return a dataframe that has no dupliacte\n",
    "\n",
    "subset is used to specify the column for identifying duplicate\n",
    "\n",
    "keep is used to determine the duplicate to keep either(first, last, false)\n",
    "\n",
    "'first'this means drop duplicates expect the first occurence\n",
    "'last' this means drop duplicates expect the last occurence\n",
    "'False' this means drop all duplicates\n",
    "\n",
    "inplace is used to determine whether to drop duplicates in place or to return a copy\n",
    "'''"
   ]
  },
  {
   "cell_type": "code",
   "execution_count": 52,
   "metadata": {},
   "outputs": [
    {
     "data": {
      "text/html": [
       "<div>\n",
       "<style scoped>\n",
       "    .dataframe tbody tr th:only-of-type {\n",
       "        vertical-align: middle;\n",
       "    }\n",
       "\n",
       "    .dataframe tbody tr th {\n",
       "        vertical-align: top;\n",
       "    }\n",
       "\n",
       "    .dataframe thead th {\n",
       "        text-align: right;\n",
       "    }\n",
       "</style>\n",
       "<table border=\"1\" class=\"dataframe\">\n",
       "  <thead>\n",
       "    <tr style=\"text-align: right;\">\n",
       "      <th></th>\n",
       "      <th>id</th>\n",
       "      <th>location</th>\n",
       "      <th>fault_severity</th>\n",
       "      <th>severity_type</th>\n",
       "      <th>resource_type</th>\n",
       "      <th>log_feature</th>\n",
       "      <th>volume</th>\n",
       "      <th>event_type</th>\n",
       "    </tr>\n",
       "  </thead>\n",
       "  <tbody>\n",
       "    <tr>\n",
       "      <th>0</th>\n",
       "      <td>14121</td>\n",
       "      <td>location 118</td>\n",
       "      <td>1</td>\n",
       "      <td>severity_type 2</td>\n",
       "      <td>resource_type 2</td>\n",
       "      <td>feature 312</td>\n",
       "      <td>19</td>\n",
       "      <td>event_type 34</td>\n",
       "    </tr>\n",
       "    <tr>\n",
       "      <th>4</th>\n",
       "      <td>9320</td>\n",
       "      <td>location 91</td>\n",
       "      <td>0</td>\n",
       "      <td>severity_type 2</td>\n",
       "      <td>resource_type 2</td>\n",
       "      <td>feature 315</td>\n",
       "      <td>200</td>\n",
       "      <td>event_type 34</td>\n",
       "    </tr>\n",
       "    <tr>\n",
       "      <th>8</th>\n",
       "      <td>14394</td>\n",
       "      <td>location 152</td>\n",
       "      <td>1</td>\n",
       "      <td>severity_type 2</td>\n",
       "      <td>resource_type 2</td>\n",
       "      <td>feature 221</td>\n",
       "      <td>1</td>\n",
       "      <td>event_type 35</td>\n",
       "    </tr>\n",
       "    <tr>\n",
       "      <th>12</th>\n",
       "      <td>8218</td>\n",
       "      <td>location 931</td>\n",
       "      <td>1</td>\n",
       "      <td>severity_type 1</td>\n",
       "      <td>resource_type 8</td>\n",
       "      <td>feature 80</td>\n",
       "      <td>9</td>\n",
       "      <td>event_type 15</td>\n",
       "    </tr>\n",
       "    <tr>\n",
       "      <th>18</th>\n",
       "      <td>14804</td>\n",
       "      <td>location 120</td>\n",
       "      <td>0</td>\n",
       "      <td>severity_type 1</td>\n",
       "      <td>resource_type 2</td>\n",
       "      <td>feature 134</td>\n",
       "      <td>1</td>\n",
       "      <td>event_type 34</td>\n",
       "    </tr>\n",
       "    <tr>\n",
       "      <th>...</th>\n",
       "      <td>...</td>\n",
       "      <td>...</td>\n",
       "      <td>...</td>\n",
       "      <td>...</td>\n",
       "      <td>...</td>\n",
       "      <td>...</td>\n",
       "      <td>...</td>\n",
       "      <td>...</td>\n",
       "    </tr>\n",
       "    <tr>\n",
       "      <th>61824</th>\n",
       "      <td>870</td>\n",
       "      <td>location 167</td>\n",
       "      <td>0</td>\n",
       "      <td>severity_type 2</td>\n",
       "      <td>resource_type 2</td>\n",
       "      <td>feature 232</td>\n",
       "      <td>1</td>\n",
       "      <td>event_type 34</td>\n",
       "    </tr>\n",
       "    <tr>\n",
       "      <th>61828</th>\n",
       "      <td>18068</td>\n",
       "      <td>location 106</td>\n",
       "      <td>0</td>\n",
       "      <td>severity_type 1</td>\n",
       "      <td>resource_type 2</td>\n",
       "      <td>feature 219</td>\n",
       "      <td>1</td>\n",
       "      <td>event_type 20</td>\n",
       "    </tr>\n",
       "    <tr>\n",
       "      <th>61830</th>\n",
       "      <td>14111</td>\n",
       "      <td>location 1086</td>\n",
       "      <td>2</td>\n",
       "      <td>severity_type 2</td>\n",
       "      <td>resource_type 8</td>\n",
       "      <td>feature 82</td>\n",
       "      <td>21</td>\n",
       "      <td>event_type 15</td>\n",
       "    </tr>\n",
       "    <tr>\n",
       "      <th>61832</th>\n",
       "      <td>15189</td>\n",
       "      <td>location 7</td>\n",
       "      <td>0</td>\n",
       "      <td>severity_type 1</td>\n",
       "      <td>resource_type 8</td>\n",
       "      <td>feature 191</td>\n",
       "      <td>3</td>\n",
       "      <td>event_type 11</td>\n",
       "    </tr>\n",
       "    <tr>\n",
       "      <th>61836</th>\n",
       "      <td>17067</td>\n",
       "      <td>location 885</td>\n",
       "      <td>0</td>\n",
       "      <td>severity_type 1</td>\n",
       "      <td>resource_type 8</td>\n",
       "      <td>feature 81</td>\n",
       "      <td>1</td>\n",
       "      <td>event_type 11</td>\n",
       "    </tr>\n",
       "  </tbody>\n",
       "</table>\n",
       "<p>7381 rows × 8 columns</p>\n",
       "</div>"
      ],
      "text/plain": [
       "          id       location  fault_severity    severity_type    resource_type  \\\n",
       "0      14121   location 118               1  severity_type 2  resource_type 2   \n",
       "4       9320    location 91               0  severity_type 2  resource_type 2   \n",
       "8      14394   location 152               1  severity_type 2  resource_type 2   \n",
       "12      8218   location 931               1  severity_type 1  resource_type 8   \n",
       "18     14804   location 120               0  severity_type 1  resource_type 2   \n",
       "...      ...            ...             ...              ...              ...   \n",
       "61824    870   location 167               0  severity_type 2  resource_type 2   \n",
       "61828  18068   location 106               0  severity_type 1  resource_type 2   \n",
       "61830  14111  location 1086               2  severity_type 2  resource_type 8   \n",
       "61832  15189     location 7               0  severity_type 1  resource_type 8   \n",
       "61836  17067   location 885               0  severity_type 1  resource_type 8   \n",
       "\n",
       "       log_feature  volume     event_type  \n",
       "0      feature 312      19  event_type 34  \n",
       "4      feature 315     200  event_type 34  \n",
       "8      feature 221       1  event_type 35  \n",
       "12      feature 80       9  event_type 15  \n",
       "18     feature 134       1  event_type 34  \n",
       "...            ...     ...            ...  \n",
       "61824  feature 232       1  event_type 34  \n",
       "61828  feature 219       1  event_type 20  \n",
       "61830   feature 82      21  event_type 15  \n",
       "61832  feature 191       3  event_type 11  \n",
       "61836   feature 81       1  event_type 11  \n",
       "\n",
       "[7381 rows x 8 columns]"
      ]
     },
     "execution_count": 52,
     "metadata": {},
     "output_type": "execute_result"
    }
   ],
   "source": [
    "#dropping the duplicate records\n",
    "\n",
    "train_4.drop_duplicates(subset= 'id', keep= 'first', inplace = True)\n",
    "train_4\n"
   ]
  },
  {
   "cell_type": "code",
   "execution_count": 53,
   "metadata": {},
   "outputs": [
    {
     "name": "stdout",
     "output_type": "stream",
     "text": [
      "Train_4 info: \n",
      "<class 'pandas.core.frame.DataFrame'>\n",
      "Int64Index: 7381 entries, 0 to 61836\n",
      "Data columns (total 8 columns):\n",
      " #   Column          Non-Null Count  Dtype \n",
      "---  ------          --------------  ----- \n",
      " 0   id              7381 non-null   int64 \n",
      " 1   location        7381 non-null   object\n",
      " 2   fault_severity  7381 non-null   int64 \n",
      " 3   severity_type   7381 non-null   object\n",
      " 4   resource_type   7381 non-null   object\n",
      " 5   log_feature     7381 non-null   object\n",
      " 6   volume          7381 non-null   int64 \n",
      " 7   event_type      7381 non-null   object\n",
      "dtypes: int64(3), object(5)\n",
      "memory usage: 519.0+ KB\n",
      "None\n",
      "\n",
      "Check for na values:\n",
      "id                0\n",
      "location          0\n",
      "fault_severity    0\n",
      "severity_type     0\n",
      "resource_type     0\n",
      "log_feature       0\n",
      "volume            0\n",
      "event_type        0\n",
      "dtype: int64\n",
      "\n",
      "Check for null values:\n",
      "id                0\n",
      "location          0\n",
      "fault_severity    0\n",
      "severity_type     0\n",
      "resource_type     0\n",
      "log_feature       0\n",
      "volume            0\n",
      "event_type        0\n",
      "dtype: int64\n"
     ]
    }
   ],
   "source": [
    "'''\n",
    ".info() will return:\n",
    "- datatype of each of the column\n",
    "- return the count of non-null\n",
    "- number of rows and columns\n",
    "\n",
    "The below result shows that there are 7381 rows and 8 columns with no null values\n",
    "'''\n",
    "\n",
    "print(\"Train_4 info: \")\n",
    "print(train_4.info())\n",
    "print()\n",
    "\n",
    "print(\"Check for na values:\")\n",
    "print(train_4.isna().sum())\n",
    "print()\n",
    "\n",
    "print(\"Check for null values:\")\n",
    "print(train_4.isnull().sum())"
   ]
  },
  {
   "cell_type": "code",
   "execution_count": 54,
   "metadata": {},
   "outputs": [],
   "source": [
    "# save clean merged file\n",
    "train_4.to_csv('df_merged.csv', index=False)"
   ]
  },
  {
   "cell_type": "markdown",
   "metadata": {},
   "source": [
    "# DATA TRANSFORMATION"
   ]
  },
  {
   "cell_type": "markdown",
   "metadata": {},
   "source": [
    "LABEL ENCODING\n",
    "\n",
    "In this encoding, each category is assigned a value from 1 through N (here N is the number of categories for the feature. One major issue with this approach is there is no relation or order between these classes"
   ]
  },
  {
   "cell_type": "code",
   "execution_count": 7,
   "metadata": {},
   "outputs": [
    {
     "data": {
      "text/html": [
       "<div>\n",
       "<style scoped>\n",
       "    .dataframe tbody tr th:only-of-type {\n",
       "        vertical-align: middle;\n",
       "    }\n",
       "\n",
       "    .dataframe tbody tr th {\n",
       "        vertical-align: top;\n",
       "    }\n",
       "\n",
       "    .dataframe thead th {\n",
       "        text-align: right;\n",
       "    }\n",
       "</style>\n",
       "<table border=\"1\" class=\"dataframe\">\n",
       "  <thead>\n",
       "    <tr style=\"text-align: right;\">\n",
       "      <th></th>\n",
       "      <th>id</th>\n",
       "      <th>location</th>\n",
       "      <th>fault_severity</th>\n",
       "      <th>severity_type</th>\n",
       "      <th>resource_type</th>\n",
       "      <th>log_feature</th>\n",
       "      <th>volume</th>\n",
       "      <th>event_type</th>\n",
       "    </tr>\n",
       "  </thead>\n",
       "  <tbody>\n",
       "    <tr>\n",
       "      <th>0</th>\n",
       "      <td>14121</td>\n",
       "      <td>131</td>\n",
       "      <td>1</td>\n",
       "      <td>1</td>\n",
       "      <td>2</td>\n",
       "      <td>143</td>\n",
       "      <td>19</td>\n",
       "      <td>22</td>\n",
       "    </tr>\n",
       "    <tr>\n",
       "      <th>4</th>\n",
       "      <td>9320</td>\n",
       "      <td>850</td>\n",
       "      <td>0</td>\n",
       "      <td>1</td>\n",
       "      <td>2</td>\n",
       "      <td>146</td>\n",
       "      <td>200</td>\n",
       "      <td>22</td>\n",
       "    </tr>\n",
       "    <tr>\n",
       "      <th>8</th>\n",
       "      <td>14394</td>\n",
       "      <td>163</td>\n",
       "      <td>1</td>\n",
       "      <td>1</td>\n",
       "      <td>2</td>\n",
       "      <td>88</td>\n",
       "      <td>1</td>\n",
       "      <td>23</td>\n",
       "    </tr>\n",
       "    <tr>\n",
       "      <th>12</th>\n",
       "      <td>8218</td>\n",
       "      <td>870</td>\n",
       "      <td>1</td>\n",
       "      <td>0</td>\n",
       "      <td>8</td>\n",
       "      <td>211</td>\n",
       "      <td>9</td>\n",
       "      <td>5</td>\n",
       "    </tr>\n",
       "    <tr>\n",
       "      <th>18</th>\n",
       "      <td>14804</td>\n",
       "      <td>134</td>\n",
       "      <td>0</td>\n",
       "      <td>0</td>\n",
       "      <td>2</td>\n",
       "      <td>21</td>\n",
       "      <td>1</td>\n",
       "      <td>22</td>\n",
       "    </tr>\n",
       "    <tr>\n",
       "      <th>...</th>\n",
       "      <td>...</td>\n",
       "      <td>...</td>\n",
       "      <td>...</td>\n",
       "      <td>...</td>\n",
       "      <td>...</td>\n",
       "      <td>...</td>\n",
       "      <td>...</td>\n",
       "      <td>...</td>\n",
       "    </tr>\n",
       "    <tr>\n",
       "      <th>61824</th>\n",
       "      <td>870</td>\n",
       "      <td>177</td>\n",
       "      <td>0</td>\n",
       "      <td>1</td>\n",
       "      <td>2</td>\n",
       "      <td>98</td>\n",
       "      <td>1</td>\n",
       "      <td>22</td>\n",
       "    </tr>\n",
       "    <tr>\n",
       "      <th>61828</th>\n",
       "      <td>18068</td>\n",
       "      <td>58</td>\n",
       "      <td>0</td>\n",
       "      <td>0</td>\n",
       "      <td>2</td>\n",
       "      <td>85</td>\n",
       "      <td>1</td>\n",
       "      <td>8</td>\n",
       "    </tr>\n",
       "    <tr>\n",
       "      <th>61830</th>\n",
       "      <td>14111</td>\n",
       "      <td>86</td>\n",
       "      <td>2</td>\n",
       "      <td>1</td>\n",
       "      <td>8</td>\n",
       "      <td>213</td>\n",
       "      <td>21</td>\n",
       "      <td>5</td>\n",
       "    </tr>\n",
       "    <tr>\n",
       "      <th>61832</th>\n",
       "      <td>15189</td>\n",
       "      <td>656</td>\n",
       "      <td>0</td>\n",
       "      <td>0</td>\n",
       "      <td>8</td>\n",
       "      <td>63</td>\n",
       "      <td>3</td>\n",
       "      <td>1</td>\n",
       "    </tr>\n",
       "    <tr>\n",
       "      <th>61836</th>\n",
       "      <td>17067</td>\n",
       "      <td>825</td>\n",
       "      <td>0</td>\n",
       "      <td>0</td>\n",
       "      <td>8</td>\n",
       "      <td>212</td>\n",
       "      <td>1</td>\n",
       "      <td>1</td>\n",
       "    </tr>\n",
       "  </tbody>\n",
       "</table>\n",
       "<p>7381 rows × 8 columns</p>\n",
       "</div>"
      ],
      "text/plain": [
       "          id  location  fault_severity  severity_type  resource_type  \\\n",
       "0      14121       131               1              1              2   \n",
       "4       9320       850               0              1              2   \n",
       "8      14394       163               1              1              2   \n",
       "12      8218       870               1              0              8   \n",
       "18     14804       134               0              0              2   \n",
       "...      ...       ...             ...            ...            ...   \n",
       "61824    870       177               0              1              2   \n",
       "61828  18068        58               0              0              2   \n",
       "61830  14111        86               2              1              8   \n",
       "61832  15189       656               0              0              8   \n",
       "61836  17067       825               0              0              8   \n",
       "\n",
       "       log_feature  volume  event_type  \n",
       "0              143      19          22  \n",
       "4              146     200          22  \n",
       "8               88       1          23  \n",
       "12             211       9           5  \n",
       "18              21       1          22  \n",
       "...            ...     ...         ...  \n",
       "61824           98       1          22  \n",
       "61828           85       1           8  \n",
       "61830          213      21           5  \n",
       "61832           63       3           1  \n",
       "61836          212       1           1  \n",
       "\n",
       "[7381 rows x 8 columns]"
      ]
     },
     "execution_count": 7,
     "metadata": {},
     "output_type": "execute_result"
    }
   ],
   "source": [
    "# Label encoding\n",
    "for col in train_4.select_dtypes(include=['object']).columns:\n",
    "    encoder = LabelEncoder()\n",
    "    train_4[col] = encoder.fit_transform(train_4[col])\n",
    "\n",
    "train_4"
   ]
  },
  {
   "cell_type": "code",
   "execution_count": 8,
   "metadata": {},
   "outputs": [
    {
     "name": "stdout",
     "output_type": "stream",
     "text": [
      "Train_4 info: \n",
      "<class 'pandas.core.frame.DataFrame'>\n",
      "Int64Index: 7381 entries, 0 to 61836\n",
      "Data columns (total 8 columns):\n",
      " #   Column          Non-Null Count  Dtype\n",
      "---  ------          --------------  -----\n",
      " 0   id              7381 non-null   int64\n",
      " 1   location        7381 non-null   int32\n",
      " 2   fault_severity  7381 non-null   int64\n",
      " 3   severity_type   7381 non-null   int32\n",
      " 4   resource_type   7381 non-null   int32\n",
      " 5   log_feature     7381 non-null   int32\n",
      " 6   volume          7381 non-null   int64\n",
      " 7   event_type      7381 non-null   int32\n",
      "dtypes: int32(5), int64(3)\n",
      "memory usage: 374.8 KB\n",
      "None\n",
      "\n",
      "Check for na values:\n",
      "id                0\n",
      "location          0\n",
      "fault_severity    0\n",
      "severity_type     0\n",
      "resource_type     0\n",
      "log_feature       0\n",
      "volume            0\n",
      "event_type        0\n",
      "dtype: int64\n",
      "\n",
      "Check for null values:\n",
      "id                0\n",
      "location          0\n",
      "fault_severity    0\n",
      "severity_type     0\n",
      "resource_type     0\n",
      "log_feature       0\n",
      "volume            0\n",
      "event_type        0\n",
      "dtype: int64\n"
     ]
    }
   ],
   "source": [
    "# Checking encoded columns\n",
    "print(\"Train_4 info: \")\n",
    "print(train_4.info())\n",
    "print()\n",
    "\n",
    "print(\"Check for na values:\")\n",
    "print(train_4.isna().sum())\n",
    "print()\n",
    "\n",
    "print(\"Check for null values:\")\n",
    "print(train_4.isnull().sum())"
   ]
  },
  {
   "cell_type": "code",
   "execution_count": 9,
   "metadata": {},
   "outputs": [
    {
     "data": {
      "text/html": [
       "<div>\n",
       "<style scoped>\n",
       "    .dataframe tbody tr th:only-of-type {\n",
       "        vertical-align: middle;\n",
       "    }\n",
       "\n",
       "    .dataframe tbody tr th {\n",
       "        vertical-align: top;\n",
       "    }\n",
       "\n",
       "    .dataframe thead th {\n",
       "        text-align: right;\n",
       "    }\n",
       "</style>\n",
       "<table border=\"1\" class=\"dataframe\">\n",
       "  <thead>\n",
       "    <tr style=\"text-align: right;\">\n",
       "      <th></th>\n",
       "      <th>id</th>\n",
       "      <th>location</th>\n",
       "      <th>fault_severity</th>\n",
       "      <th>severity_type</th>\n",
       "      <th>resource_type</th>\n",
       "      <th>log_feature</th>\n",
       "      <th>volume</th>\n",
       "      <th>event_type</th>\n",
       "    </tr>\n",
       "  </thead>\n",
       "  <tbody>\n",
       "    <tr>\n",
       "      <th>count</th>\n",
       "      <td>7381.000000</td>\n",
       "      <td>7381.000000</td>\n",
       "      <td>7381.00000</td>\n",
       "      <td>7381.000000</td>\n",
       "      <td>7381.000000</td>\n",
       "      <td>7381.000000</td>\n",
       "      <td>7381.000000</td>\n",
       "      <td>7381.000000</td>\n",
       "    </tr>\n",
       "    <tr>\n",
       "      <th>mean</th>\n",
       "      <td>9264.649099</td>\n",
       "      <td>474.316759</td>\n",
       "      <td>0.45021</td>\n",
       "      <td>0.657770</td>\n",
       "      <td>5.135077</td>\n",
       "      <td>130.233031</td>\n",
       "      <td>8.580409</td>\n",
       "      <td>11.937000</td>\n",
       "    </tr>\n",
       "    <tr>\n",
       "      <th>std</th>\n",
       "      <td>5349.290176</td>\n",
       "      <td>286.084285</td>\n",
       "      <td>0.66656</td>\n",
       "      <td>0.760966</td>\n",
       "      <td>2.963699</td>\n",
       "      <td>58.147892</td>\n",
       "      <td>23.539402</td>\n",
       "      <td>10.822876</td>\n",
       "    </tr>\n",
       "    <tr>\n",
       "      <th>min</th>\n",
       "      <td>1.000000</td>\n",
       "      <td>0.000000</td>\n",
       "      <td>0.00000</td>\n",
       "      <td>0.000000</td>\n",
       "      <td>0.000000</td>\n",
       "      <td>0.000000</td>\n",
       "      <td>1.000000</td>\n",
       "      <td>0.000000</td>\n",
       "    </tr>\n",
       "    <tr>\n",
       "      <th>25%</th>\n",
       "      <td>4647.000000</td>\n",
       "      <td>182.000000</td>\n",
       "      <td>0.00000</td>\n",
       "      <td>0.000000</td>\n",
       "      <td>2.000000</td>\n",
       "      <td>85.000000</td>\n",
       "      <td>1.000000</td>\n",
       "      <td>1.000000</td>\n",
       "    </tr>\n",
       "    <tr>\n",
       "      <th>50%</th>\n",
       "      <td>9222.000000</td>\n",
       "      <td>481.000000</td>\n",
       "      <td>0.00000</td>\n",
       "      <td>1.000000</td>\n",
       "      <td>7.000000</td>\n",
       "      <td>138.000000</td>\n",
       "      <td>2.000000</td>\n",
       "      <td>5.000000</td>\n",
       "    </tr>\n",
       "    <tr>\n",
       "      <th>75%</th>\n",
       "      <td>13885.000000</td>\n",
       "      <td>739.000000</td>\n",
       "      <td>1.00000</td>\n",
       "      <td>1.000000</td>\n",
       "      <td>8.000000</td>\n",
       "      <td>189.000000</td>\n",
       "      <td>7.000000</td>\n",
       "      <td>22.000000</td>\n",
       "    </tr>\n",
       "    <tr>\n",
       "      <th>max</th>\n",
       "      <td>18550.000000</td>\n",
       "      <td>928.000000</td>\n",
       "      <td>2.00000</td>\n",
       "      <td>4.000000</td>\n",
       "      <td>9.000000</td>\n",
       "      <td>222.000000</td>\n",
       "      <td>636.000000</td>\n",
       "      <td>44.000000</td>\n",
       "    </tr>\n",
       "  </tbody>\n",
       "</table>\n",
       "</div>"
      ],
      "text/plain": [
       "                 id     location  fault_severity  severity_type  \\\n",
       "count   7381.000000  7381.000000      7381.00000    7381.000000   \n",
       "mean    9264.649099   474.316759         0.45021       0.657770   \n",
       "std     5349.290176   286.084285         0.66656       0.760966   \n",
       "min        1.000000     0.000000         0.00000       0.000000   \n",
       "25%     4647.000000   182.000000         0.00000       0.000000   \n",
       "50%     9222.000000   481.000000         0.00000       1.000000   \n",
       "75%    13885.000000   739.000000         1.00000       1.000000   \n",
       "max    18550.000000   928.000000         2.00000       4.000000   \n",
       "\n",
       "       resource_type  log_feature       volume   event_type  \n",
       "count    7381.000000  7381.000000  7381.000000  7381.000000  \n",
       "mean        5.135077   130.233031     8.580409    11.937000  \n",
       "std         2.963699    58.147892    23.539402    10.822876  \n",
       "min         0.000000     0.000000     1.000000     0.000000  \n",
       "25%         2.000000    85.000000     1.000000     1.000000  \n",
       "50%         7.000000   138.000000     2.000000     5.000000  \n",
       "75%         8.000000   189.000000     7.000000    22.000000  \n",
       "max         9.000000   222.000000   636.000000    44.000000  "
      ]
     },
     "execution_count": 9,
     "metadata": {},
     "output_type": "execute_result"
    }
   ],
   "source": [
    "train_4.describe()"
   ]
  },
  {
   "cell_type": "markdown",
   "metadata": {},
   "source": [
    "# Feature Selection\n",
    "\n",
    "This is a process of selecting a subset of relevant features to use in machine learning model building, either automatically or manually"
   ]
  },
  {
   "cell_type": "code",
   "execution_count": 10,
   "metadata": {},
   "outputs": [
    {
     "name": "stdout",
     "output_type": "stream",
     "text": [
      "\n",
      "Original feature number:  6\n",
      "Reduced feature number:  4\n",
      "Best features are: \n",
      "       location  log_feature  volume  event_type\n",
      "0           131          143      19          22\n",
      "4           850          146     200          22\n",
      "8           163           88       1          23\n",
      "12          870          211       9           5\n",
      "18          134           21       1          22\n",
      "...         ...          ...     ...         ...\n",
      "61824       177           98       1          22\n",
      "61828        58           85       1           8\n",
      "61830        86          213      21           5\n",
      "61832       656           63       3           1\n",
      "61836       825          212       1           1\n",
      "\n",
      "[7381 rows x 4 columns]\n"
     ]
    }
   ],
   "source": [
    "from sklearn.feature_selection import SelectKBest\n",
    "from sklearn.feature_selection import chi2\n",
    "\n",
    "# features(X) = ['location', 'severity_type', 'resource_type', 'log_feature', 'event_type', 'volume']\n",
    "X = train_4.iloc[:,[1,3,4,5,6,7]]\n",
    "y = train_4.iloc[:,2]\n",
    "print()\n",
    "chi2_features = SelectKBest(score_func=chi2, k=4)\n",
    "X_Kbest_features = chi2_features.fit_transform(X, y)\n",
    "print(\"Original feature number: \", X.shape[1])\n",
    "print('Reduced feature number: ', X_Kbest_features.shape[1])\n",
    "print(\"Best features are: \")\n",
    "print(X.iloc[:,[0,3,4,5]])\n"
   ]
  },
  {
   "cell_type": "code",
   "execution_count": 11,
   "metadata": {},
   "outputs": [
    {
     "data": {
      "text/html": [
       "<div>\n",
       "<style scoped>\n",
       "    .dataframe tbody tr th:only-of-type {\n",
       "        vertical-align: middle;\n",
       "    }\n",
       "\n",
       "    .dataframe tbody tr th {\n",
       "        vertical-align: top;\n",
       "    }\n",
       "\n",
       "    .dataframe thead th {\n",
       "        text-align: right;\n",
       "    }\n",
       "</style>\n",
       "<table border=\"1\" class=\"dataframe\">\n",
       "  <thead>\n",
       "    <tr style=\"text-align: right;\">\n",
       "      <th></th>\n",
       "      <th>id</th>\n",
       "      <th>location</th>\n",
       "      <th>fault_severity</th>\n",
       "      <th>severity_type</th>\n",
       "      <th>resource_type</th>\n",
       "      <th>log_feature</th>\n",
       "      <th>volume</th>\n",
       "      <th>event_type</th>\n",
       "    </tr>\n",
       "  </thead>\n",
       "  <tbody>\n",
       "    <tr>\n",
       "      <th>0</th>\n",
       "      <td>14121</td>\n",
       "      <td>131</td>\n",
       "      <td>1</td>\n",
       "      <td>1</td>\n",
       "      <td>2</td>\n",
       "      <td>143</td>\n",
       "      <td>19</td>\n",
       "      <td>22</td>\n",
       "    </tr>\n",
       "    <tr>\n",
       "      <th>4</th>\n",
       "      <td>9320</td>\n",
       "      <td>850</td>\n",
       "      <td>0</td>\n",
       "      <td>1</td>\n",
       "      <td>2</td>\n",
       "      <td>146</td>\n",
       "      <td>200</td>\n",
       "      <td>22</td>\n",
       "    </tr>\n",
       "    <tr>\n",
       "      <th>8</th>\n",
       "      <td>14394</td>\n",
       "      <td>163</td>\n",
       "      <td>1</td>\n",
       "      <td>1</td>\n",
       "      <td>2</td>\n",
       "      <td>88</td>\n",
       "      <td>1</td>\n",
       "      <td>23</td>\n",
       "    </tr>\n",
       "    <tr>\n",
       "      <th>12</th>\n",
       "      <td>8218</td>\n",
       "      <td>870</td>\n",
       "      <td>1</td>\n",
       "      <td>0</td>\n",
       "      <td>8</td>\n",
       "      <td>211</td>\n",
       "      <td>9</td>\n",
       "      <td>5</td>\n",
       "    </tr>\n",
       "    <tr>\n",
       "      <th>18</th>\n",
       "      <td>14804</td>\n",
       "      <td>134</td>\n",
       "      <td>0</td>\n",
       "      <td>0</td>\n",
       "      <td>2</td>\n",
       "      <td>21</td>\n",
       "      <td>1</td>\n",
       "      <td>22</td>\n",
       "    </tr>\n",
       "  </tbody>\n",
       "</table>\n",
       "</div>"
      ],
      "text/plain": [
       "       id  location  fault_severity  severity_type  resource_type  \\\n",
       "0   14121       131               1              1              2   \n",
       "4    9320       850               0              1              2   \n",
       "8   14394       163               1              1              2   \n",
       "12   8218       870               1              0              8   \n",
       "18  14804       134               0              0              2   \n",
       "\n",
       "    log_feature  volume  event_type  \n",
       "0           143      19          22  \n",
       "4           146     200          22  \n",
       "8            88       1          23  \n",
       "12          211       9           5  \n",
       "18           21       1          22  "
      ]
     },
     "execution_count": 11,
     "metadata": {},
     "output_type": "execute_result"
    }
   ],
   "source": [
    "train_4.head(5)\n"
   ]
  },
  {
   "cell_type": "code",
   "execution_count": 12,
   "metadata": {},
   "outputs": [
    {
     "name": "stdout",
     "output_type": "stream",
     "text": [
      "shape before dropping columns is:  (7381, 8)\n",
      "shape after dropping columns is:  (7381, 5)\n",
      "       location  fault_severity  log_feature  volume  event_type\n",
      "0           131               1          143      19          22\n",
      "4           850               0          146     200          22\n",
      "8           163               1           88       1          23\n",
      "12          870               1          211       9           5\n",
      "18          134               0           21       1          22\n",
      "...         ...             ...          ...     ...         ...\n",
      "61824       177               0           98       1          22\n",
      "61828        58               0           85       1           8\n",
      "61830        86               2          213      21           5\n",
      "61832       656               0           63       3           1\n",
      "61836       825               0          212       1           1\n",
      "\n",
      "[7381 rows x 5 columns]\n"
     ]
    }
   ],
   "source": [
    "# Drop non best features\n",
    "print(\"shape before dropping columns is: \", train_4.shape)\n",
    "\n",
    "train_4.drop(['severity_type', 'resource_type', 'id'], axis='columns', inplace=True)\n",
    "\n",
    "# Examine shape after dropping columns\n",
    "print(\"shape after dropping columns is: \", train_4.shape)\n",
    "print(train_4)"
   ]
  },
  {
   "cell_type": "markdown",
   "metadata": {},
   "source": [
    "SAMPLING"
   ]
  },
  {
   "cell_type": "code",
   "execution_count": 13,
   "metadata": {},
   "outputs": [
    {
     "name": "stdout",
     "output_type": "stream",
     "text": [
      "Target is: \n",
      "0        1\n",
      "4        0\n",
      "8        1\n",
      "12       1\n",
      "18       0\n",
      "        ..\n",
      "61824    0\n",
      "61828    0\n",
      "61830    2\n",
      "61832    0\n",
      "61836    0\n",
      "Name: fault_severity, Length: 7381, dtype: int64\n",
      "Features are: \n",
      "       location  log_feature  volume  event_type\n",
      "0           131          143      19          22\n",
      "4           850          146     200          22\n",
      "8           163           88       1          23\n",
      "12          870          211       9           5\n",
      "18          134           21       1          22\n",
      "...         ...          ...     ...         ...\n",
      "61824       177           98       1          22\n",
      "61828        58           85       1           8\n",
      "61830        86          213      21           5\n",
      "61832       656           63       3           1\n",
      "61836       825          212       1           1\n",
      "\n",
      "[7381 rows x 4 columns]\n"
     ]
    }
   ],
   "source": [
    "# Spliting train_4 into target(y) and features(X)\n",
    "y = train_4.iloc[:,1]\n",
    "X = train_4.iloc[:,[0,2,3,4]]\n",
    "print(\"Target is: \")\n",
    "print(y)\n",
    "print(\"Features are: \")\n",
    "print(X)\n"
   ]
  },
  {
   "cell_type": "markdown",
   "metadata": {},
   "source": [
    "Sampling"
   ]
  },
  {
   "cell_type": "code",
   "execution_count": 15,
   "metadata": {},
   "outputs": [],
   "source": [
    "X_train, X_test, y_train, y_test = train_test_split(X, y, test_size=0.2, random_state=1)\n",
    "\n",
    "X_train, X_val, y_train, y_val  = train_test_split(X_train, y_train, test_size=0.25, random_state=1)"
   ]
  },
  {
   "cell_type": "code",
   "execution_count": 16,
   "metadata": {},
   "outputs": [
    {
     "data": {
      "text/plain": [
       "(4428, 4)"
      ]
     },
     "execution_count": 16,
     "metadata": {},
     "output_type": "execute_result"
    }
   ],
   "source": [
    "#Training data\n",
    "X_train.shape\n"
   ]
  },
  {
   "cell_type": "code",
   "execution_count": 17,
   "metadata": {},
   "outputs": [
    {
     "data": {
      "text/plain": [
       "(1476, 4)"
      ]
     },
     "execution_count": 17,
     "metadata": {},
     "output_type": "execute_result"
    }
   ],
   "source": [
    "X_val.shape\n"
   ]
  },
  {
   "cell_type": "code",
   "execution_count": 18,
   "metadata": {},
   "outputs": [
    {
     "data": {
      "text/plain": [
       "(1477, 4)"
      ]
     },
     "execution_count": 18,
     "metadata": {},
     "output_type": "execute_result"
    }
   ],
   "source": [
    "X_test.shape\n"
   ]
  },
  {
   "cell_type": "markdown",
   "metadata": {},
   "source": [
    "Outlier Detection"
   ]
  },
  {
   "cell_type": "code",
   "execution_count": 20,
   "metadata": {},
   "outputs": [
    {
     "name": "stdout",
     "output_type": "stream",
     "text": [
      "Total number of outliers identified is:  2040\n"
     ]
    }
   ],
   "source": [
    "#import the implementation of this algorihm from sklearn\n",
    "from sklearn.cluster import DBSCAN\n",
    "\n",
    "#Use the algorithm for outlier detection, the retun in clusters will show the membership of each point\n",
    "#Any point labelled as -1 is an outlier\n",
    "\n",
    "outlier_detection = DBSCAN(min_samples = 3, eps = 3)\n",
    "clusters = outlier_detection.fit_predict(X_train)\n",
    "\n",
    "#Count total number of outliers as count of those labelled as -1\n",
    "TotalOutliers=list(clusters).count(-1)\n",
    "print(\"Total number of outliers identified is: \",TotalOutliers)"
   ]
  },
  {
   "cell_type": "code",
   "execution_count": 21,
   "metadata": {},
   "outputs": [
    {
     "name": "stdout",
     "output_type": "stream",
     "text": [
      "(2388, 4) (2388,)\n"
     ]
    },
    {
     "data": {
      "text/html": [
       "<div>\n",
       "<style scoped>\n",
       "    .dataframe tbody tr th:only-of-type {\n",
       "        vertical-align: middle;\n",
       "    }\n",
       "\n",
       "    .dataframe tbody tr th {\n",
       "        vertical-align: top;\n",
       "    }\n",
       "\n",
       "    .dataframe thead th {\n",
       "        text-align: right;\n",
       "    }\n",
       "</style>\n",
       "<table border=\"1\" class=\"dataframe\">\n",
       "  <thead>\n",
       "    <tr style=\"text-align: right;\">\n",
       "      <th></th>\n",
       "      <th>location</th>\n",
       "      <th>log_feature</th>\n",
       "      <th>volume</th>\n",
       "      <th>event_type</th>\n",
       "    </tr>\n",
       "  </thead>\n",
       "  <tbody>\n",
       "    <tr>\n",
       "      <th>24128</th>\n",
       "      <td>775</td>\n",
       "      <td>213</td>\n",
       "      <td>33</td>\n",
       "      <td>5</td>\n",
       "    </tr>\n",
       "    <tr>\n",
       "      <th>16400</th>\n",
       "      <td>469</td>\n",
       "      <td>143</td>\n",
       "      <td>7</td>\n",
       "      <td>23</td>\n",
       "    </tr>\n",
       "    <tr>\n",
       "      <th>20729</th>\n",
       "      <td>749</td>\n",
       "      <td>64</td>\n",
       "      <td>8</td>\n",
       "      <td>1</td>\n",
       "    </tr>\n",
       "    <tr>\n",
       "      <th>33353</th>\n",
       "      <td>137</td>\n",
       "      <td>101</td>\n",
       "      <td>5</td>\n",
       "      <td>22</td>\n",
       "    </tr>\n",
       "    <tr>\n",
       "      <th>11752</th>\n",
       "      <td>283</td>\n",
       "      <td>93</td>\n",
       "      <td>1</td>\n",
       "      <td>23</td>\n",
       "    </tr>\n",
       "  </tbody>\n",
       "</table>\n",
       "</div>"
      ],
      "text/plain": [
       "       location  log_feature  volume  event_type\n",
       "24128       775          213      33           5\n",
       "16400       469          143       7          23\n",
       "20729       749           64       8           1\n",
       "33353       137          101       5          22\n",
       "11752       283           93       1          23"
      ]
     },
     "execution_count": 21,
     "metadata": {},
     "output_type": "execute_result"
    }
   ],
   "source": [
    "# select all rows that are not outliers and update the X_train and y_train.\n",
    "mask = clusters != -1\n",
    "X1_train, y1_train = X_train[mask], y_train[mask]\n",
    "\n",
    "# summarize the shape of the updated training dataset\n",
    "print(X1_train.shape, y1_train.shape)\n",
    "X1_train.head(5)"
   ]
  },
  {
   "cell_type": "markdown",
   "metadata": {},
   "source": [
    "# Data Balancing"
   ]
  },
  {
   "cell_type": "code",
   "execution_count": 23,
   "metadata": {},
   "outputs": [
    {
     "data": {
      "text/plain": [
       "0    1684\n",
       "1     542\n",
       "2     162\n",
       "Name: fault_severity, dtype: int64"
      ]
     },
     "execution_count": 23,
     "metadata": {},
     "output_type": "execute_result"
    }
   ],
   "source": [
    "y1_train.value_counts()"
   ]
  },
  {
   "cell_type": "code",
   "execution_count": 24,
   "metadata": {
    "scrolled": true
   },
   "outputs": [
    {
     "name": "stderr",
     "output_type": "stream",
     "text": [
      "C:\\Users\\chrisbol\\anaconda3\\lib\\site-packages\\seaborn\\_decorators.py:36: FutureWarning: Pass the following variable as a keyword arg: x. From version 0.12, the only valid positional argument will be `data`, and passing other arguments without an explicit keyword will result in an error or misinterpretation.\n",
      "  warnings.warn(\n"
     ]
    },
    {
     "data": {
      "image/png": "[encoded data removed]",
      "text/plain": [
       "<Figure size 576x432 with 1 Axes>"
      ]
     },
     "metadata": {},
     "output_type": "display_data"
    },
    {
     "name": "stdout",
     "output_type": "stream",
     "text": [
      "\n"
     ]
    },
    {
     "name": "stderr",
     "output_type": "stream",
     "text": [
      "C:\\Users\\chrisbol\\anaconda3\\lib\\site-packages\\seaborn\\distributions.py:2551: FutureWarning: `distplot` is a deprecated function and will be removed in a future version. Please adapt your code to use either `displot` (a figure-level function with similar flexibility) or `histplot` (an axes-level function for histograms).\n",
      "  warnings.warn(msg, FutureWarning)\n"
     ]
    },
    {
     "data": {
      "image/png": "[encoded data removed]",
      "text/plain": [
       "<Figure size 432x288 with 1 Axes>"
      ]
     },
     "metadata": {},
     "output_type": "display_data"
    }
   ],
   "source": [
    "#Show distribution of the  fault_severity\n",
    "plt.figure(figsize=(8,6))\n",
    "sns.countplot(y1_train)\n",
    "plt.show()\n",
    "\n",
    "print()\n",
    "\n",
    "#Show distribution of the  fault_severity\n",
    "sns.distplot(y1_train)\n",
    "plt.show()"
   ]
  },
  {
   "cell_type": "code",
   "execution_count": 27,
   "metadata": {},
   "outputs": [
    {
     "data": {
      "text/html": [
       "<div>\n",
       "<style scoped>\n",
       "    .dataframe tbody tr th:only-of-type {\n",
       "        vertical-align: middle;\n",
       "    }\n",
       "\n",
       "    .dataframe tbody tr th {\n",
       "        vertical-align: top;\n",
       "    }\n",
       "\n",
       "    .dataframe thead th {\n",
       "        text-align: right;\n",
       "    }\n",
       "</style>\n",
       "<table border=\"1\" class=\"dataframe\">\n",
       "  <thead>\n",
       "    <tr style=\"text-align: right;\">\n",
       "      <th></th>\n",
       "      <th>fault_severity</th>\n",
       "      <th>location</th>\n",
       "      <th>log_feature</th>\n",
       "      <th>volume</th>\n",
       "      <th>event_type</th>\n",
       "    </tr>\n",
       "  </thead>\n",
       "  <tbody>\n",
       "    <tr>\n",
       "      <th>24128</th>\n",
       "      <td>2</td>\n",
       "      <td>775</td>\n",
       "      <td>213</td>\n",
       "      <td>33</td>\n",
       "      <td>5</td>\n",
       "    </tr>\n",
       "    <tr>\n",
       "      <th>16400</th>\n",
       "      <td>0</td>\n",
       "      <td>469</td>\n",
       "      <td>143</td>\n",
       "      <td>7</td>\n",
       "      <td>23</td>\n",
       "    </tr>\n",
       "    <tr>\n",
       "      <th>20729</th>\n",
       "      <td>0</td>\n",
       "      <td>749</td>\n",
       "      <td>64</td>\n",
       "      <td>8</td>\n",
       "      <td>1</td>\n",
       "    </tr>\n",
       "    <tr>\n",
       "      <th>33353</th>\n",
       "      <td>0</td>\n",
       "      <td>137</td>\n",
       "      <td>101</td>\n",
       "      <td>5</td>\n",
       "      <td>22</td>\n",
       "    </tr>\n",
       "    <tr>\n",
       "      <th>11752</th>\n",
       "      <td>0</td>\n",
       "      <td>283</td>\n",
       "      <td>93</td>\n",
       "      <td>1</td>\n",
       "      <td>23</td>\n",
       "    </tr>\n",
       "  </tbody>\n",
       "</table>\n",
       "</div>"
      ],
      "text/plain": [
       "       fault_severity  location  log_feature  volume  event_type\n",
       "24128               2       775          213      33           5\n",
       "16400               0       469          143       7          23\n",
       "20729               0       749           64       8           1\n",
       "33353               0       137          101       5          22\n",
       "11752               0       283           93       1          23"
      ]
     },
     "execution_count": 27,
     "metadata": {},
     "output_type": "execute_result"
    }
   ],
   "source": [
    "#Concatenate y1_train and X1_train to apply balancing, we would seperate them later again.\n",
    "df = pd.concat([y1_train, X1_train], axis=1)\n",
    "df.head(5)"
   ]
  },
  {
   "cell_type": "markdown",
   "metadata": {},
   "source": [
    "Apply Up Sampling"
   ]
  },
  {
   "cell_type": "code",
   "execution_count": 28,
   "metadata": {},
   "outputs": [
    {
     "name": "stdout",
     "output_type": "stream",
     "text": [
      "upsampled target is: \n",
      "2    1684\n",
      "1    1684\n",
      "0    1684\n",
      "Name: fault_severity, dtype: int64\n",
      "\n",
      "Upsampled Statistics: \n",
      "       fault_severity     location  log_feature       volume   event_type\n",
      "count     5052.000000  5052.000000  5052.000000  5052.000000  5052.000000\n",
      "mean         1.000000   479.634204   139.320467     5.109660    10.177949\n",
      "std          0.816577   302.977530    58.471645     6.801616     9.843530\n",
      "min          0.000000     2.000000    19.000000     1.000000     0.000000\n",
      "25%          0.000000   141.000000    74.000000     1.000000     1.000000\n",
      "50%          1.000000   569.000000   143.000000     2.000000     5.000000\n",
      "75%          2.000000   752.000000   202.000000     6.000000    22.000000\n",
      "max          2.000000   928.000000   218.000000    74.000000    40.000000\n"
     ]
    }
   ],
   "source": [
    "from sklearn.utils import resample\n",
    "\n",
    "df_majority = df[df.fault_severity == 0]\n",
    "df_minority = df[df.fault_severity == 1]\n",
    "df_minority_2 =  df[df.fault_severity == 2]\n",
    "\n",
    "# upsample minority class fault = 1\n",
    "df_minority_1_upsampled = resample(df_minority,\n",
    "                                  replace=True,\n",
    "                                  n_samples=1684,\n",
    "                                  random_state=123)\n",
    "\n",
    "# upsample minority class fault = 2\n",
    "df_minority_2_upsampled = resample(df_minority_2,\n",
    "                                  replace=True,\n",
    "                                  n_samples=1684,\n",
    "                                  random_state=123)\n",
    "\n",
    "# combine minority class fault_1 anf fault_2 with majority class\n",
    "df_upsampled = pd.concat([df_majority, df_minority_1_upsampled, df_minority_2_upsampled])\n",
    "\n",
    "# display new class counts\n",
    "print(\"upsampled target is: \")\n",
    "print(df_upsampled.fault_severity.value_counts())\n",
    "\n",
    "# show statistics \n",
    "print()\n",
    "print(\"Upsampled Statistics: \")\n",
    "print(df_upsampled.describe())"
   ]
  },
  {
   "cell_type": "code",
   "execution_count": 102,
   "metadata": {},
   "outputs": [
    {
     "data": {
      "text/plain": [
       "<AxesSubplot:xlabel='fault_severity', ylabel='count'>"
      ]
     },
     "execution_count": 102,
     "metadata": {},
     "output_type": "execute_result"
    },
    {
     "data": {
      "image/png": "[encoded data removed]",
      "text/plain": [
       "<Figure size 432x288 with 1 Axes>"
      ]
     },
     "metadata": {},
     "output_type": "display_data"
    }
   ],
   "source": [
    "#Show distribution of the class on whole dataset\n",
    "sns.countplot(x= 'fault_severity', data=df_upsampled)"
   ]
  },
  {
   "cell_type": "code",
   "execution_count": 29,
   "metadata": {},
   "outputs": [
    {
     "name": "stdout",
     "output_type": "stream",
     "text": [
      "Upsampled shape is:  (5052, 5)\n",
      "\n",
      "Upsampled shape datatype is:  fault_severity    int64\n",
      "location          int32\n",
      "log_feature       int32\n",
      "volume            int64\n",
      "event_type        int32\n",
      "dtype: object\n",
      "\n",
      "Check for missing values:  fault_severity    0\n",
      "location          0\n",
      "log_feature       0\n",
      "volume            0\n",
      "event_type        0\n",
      "dtype: int64\n",
      "\n"
     ]
    }
   ],
   "source": [
    "# check upsampled dataframe\n",
    "print(\"Upsampled shape is: \", df_upsampled.shape )\n",
    "print()\n",
    "print(\"Upsampled shape datatype is: \", df_upsampled.dtypes )\n",
    "print()\n",
    "print(\"Check for missing values: \", df_upsampled.isnull().sum())\n",
    "print()\n",
    "\n",
    "df_upsampled.tail(5)\n",
    "\n",
    "# save Upsampled Data set\n",
    "df_upsampled.to_csv('df_upsampled.csv', index=False)"
   ]
  },
  {
   "cell_type": "markdown",
   "metadata": {},
   "source": []
  },
  {
   "cell_type": "markdown",
   "metadata": {},
   "source": [
    "# Split the new dataframe"
   ]
  },
  {
   "cell_type": "code",
   "execution_count": 30,
   "metadata": {},
   "outputs": [
    {
     "name": "stdout",
     "output_type": "stream",
     "text": [
      "target is: \n",
      "16400    0\n",
      "20729    0\n",
      "33353    0\n",
      "11752    0\n",
      "7635     0\n",
      "        ..\n",
      "42727    2\n",
      "32922    2\n",
      "59014    2\n",
      "458      2\n",
      "14930    2\n",
      "Name: fault_severity, Length: 5052, dtype: int64\n"
     ]
    }
   ],
   "source": [
    "# Split the new dataframe\n",
    "y = df_upsampled.iloc[:,0]\n",
    "X = df_upsampled.iloc[:,[1,2,3,4]]\n",
    "\n",
    "print(\"target is: \")\n",
    "print(y)"
   ]
  },
  {
   "cell_type": "markdown",
   "metadata": {},
   "source": [
    "# Without Stratification"
   ]
  },
  {
   "cell_type": "code",
   "execution_count": 31,
   "metadata": {},
   "outputs": [],
   "source": [
    "# Sampling upsampled dataframe without Stratification\n",
    "X_train, X_test, y_train, y_test = train_test_split(X, y, test_size=0.2, random_state=1)\n",
    "X_train, X_val, y_train, y_val  = train_test_split(X_train, y_train, test_size=0.25, random_state=1)"
   ]
  },
  {
   "cell_type": "code",
   "execution_count": 32,
   "metadata": {},
   "outputs": [
    {
     "name": "stdout",
     "output_type": "stream",
     "text": [
      "Train shape is:  (3030, 4)\n",
      "Val shape is:  (1011, 4)\n",
      "Test shape is:  (1011, 4)\n"
     ]
    },
    {
     "data": {
      "text/html": [
       "<div>\n",
       "<style scoped>\n",
       "    .dataframe tbody tr th:only-of-type {\n",
       "        vertical-align: middle;\n",
       "    }\n",
       "\n",
       "    .dataframe tbody tr th {\n",
       "        vertical-align: top;\n",
       "    }\n",
       "\n",
       "    .dataframe thead th {\n",
       "        text-align: right;\n",
       "    }\n",
       "</style>\n",
       "<table border=\"1\" class=\"dataframe\">\n",
       "  <thead>\n",
       "    <tr style=\"text-align: right;\">\n",
       "      <th></th>\n",
       "      <th>location</th>\n",
       "      <th>log_feature</th>\n",
       "      <th>volume</th>\n",
       "      <th>event_type</th>\n",
       "    </tr>\n",
       "  </thead>\n",
       "  <tbody>\n",
       "    <tr>\n",
       "      <th>23709</th>\n",
       "      <td>775</td>\n",
       "      <td>74</td>\n",
       "      <td>6</td>\n",
       "      <td>5</td>\n",
       "    </tr>\n",
       "    <tr>\n",
       "      <th>38286</th>\n",
       "      <td>361</td>\n",
       "      <td>93</td>\n",
       "      <td>1</td>\n",
       "      <td>22</td>\n",
       "    </tr>\n",
       "    <tr>\n",
       "      <th>1743</th>\n",
       "      <td>159</td>\n",
       "      <td>138</td>\n",
       "      <td>1</td>\n",
       "      <td>23</td>\n",
       "    </tr>\n",
       "    <tr>\n",
       "      <th>21096</th>\n",
       "      <td>282</td>\n",
       "      <td>143</td>\n",
       "      <td>1</td>\n",
       "      <td>23</td>\n",
       "    </tr>\n",
       "    <tr>\n",
       "      <th>38844</th>\n",
       "      <td>680</td>\n",
       "      <td>189</td>\n",
       "      <td>1</td>\n",
       "      <td>1</td>\n",
       "    </tr>\n",
       "    <tr>\n",
       "      <th>...</th>\n",
       "      <td>...</td>\n",
       "      <td>...</td>\n",
       "      <td>...</td>\n",
       "      <td>...</td>\n",
       "    </tr>\n",
       "    <tr>\n",
       "      <th>16971</th>\n",
       "      <td>42</td>\n",
       "      <td>74</td>\n",
       "      <td>6</td>\n",
       "      <td>5</td>\n",
       "    </tr>\n",
       "    <tr>\n",
       "      <th>42794</th>\n",
       "      <td>323</td>\n",
       "      <td>132</td>\n",
       "      <td>1</td>\n",
       "      <td>23</td>\n",
       "    </tr>\n",
       "    <tr>\n",
       "      <th>16103</th>\n",
       "      <td>658</td>\n",
       "      <td>21</td>\n",
       "      <td>1</td>\n",
       "      <td>8</td>\n",
       "    </tr>\n",
       "    <tr>\n",
       "      <th>49096</th>\n",
       "      <td>159</td>\n",
       "      <td>98</td>\n",
       "      <td>3</td>\n",
       "      <td>22</td>\n",
       "    </tr>\n",
       "    <tr>\n",
       "      <th>37221</th>\n",
       "      <td>887</td>\n",
       "      <td>93</td>\n",
       "      <td>1</td>\n",
       "      <td>23</td>\n",
       "    </tr>\n",
       "  </tbody>\n",
       "</table>\n",
       "<p>1011 rows × 4 columns</p>\n",
       "</div>"
      ],
      "text/plain": [
       "       location  log_feature  volume  event_type\n",
       "23709       775           74       6           5\n",
       "38286       361           93       1          22\n",
       "1743        159          138       1          23\n",
       "21096       282          143       1          23\n",
       "38844       680          189       1           1\n",
       "...         ...          ...     ...         ...\n",
       "16971        42           74       6           5\n",
       "42794       323          132       1          23\n",
       "16103       658           21       1           8\n",
       "49096       159           98       3          22\n",
       "37221       887           93       1          23\n",
       "\n",
       "[1011 rows x 4 columns]"
      ]
     },
     "execution_count": 32,
     "metadata": {},
     "output_type": "execute_result"
    }
   ],
   "source": [
    "print(\"Train shape is: \", X_train.shape)\n",
    "print(\"Val shape is: \", X_val.shape)\n",
    "print(\"Test shape is: \", X_test.shape)\n",
    "X_val"
   ]
  },
  {
   "cell_type": "markdown",
   "metadata": {},
   "source": [
    "Logistic Regression"
   ]
  },
  {
   "cell_type": "markdown",
   "metadata": {},
   "source": [
    "Decision Tree Classifier"
   ]
  },
  {
   "cell_type": "code",
   "execution_count": 33,
   "metadata": {},
   "outputs": [],
   "source": [
    "from sklearn.tree import DecisionTreeClassifier\n",
    "from sklearn.metrics import accuracy_score"
   ]
  },
  {
   "cell_type": "code",
   "execution_count": 34,
   "metadata": {},
   "outputs": [
    {
     "data": {
      "text/plain": [
       "array([2, 1, 0, ..., 0, 0, 1], dtype=int64)"
      ]
     },
     "execution_count": 34,
     "metadata": {},
     "output_type": "execute_result"
    }
   ],
   "source": [
    "model = DecisionTreeClassifier()\n",
    "model.fit(X_train, y_train)\n",
    "\n",
    "y_pred = model.predict(X_val)\n",
    "y_pred"
   ]
  },
  {
   "cell_type": "code",
   "execution_count": 35,
   "metadata": {
    "scrolled": true
   },
   "outputs": [
    {
     "name": "stdout",
     "output_type": "stream",
     "text": [
      "Test_score :  0.8654797230464887\n"
     ]
    }
   ],
   "source": [
    "#  compare accuracy of the actual with the predicted\n",
    "print(\"Test_score : \", accuracy_score(y_val, y_pred)) "
   ]
  },
  {
   "cell_type": "markdown",
   "metadata": {},
   "source": [
    "Confusion Matrix is a performance measurement for machine learning classification where output can be two or more classes."
   ]
  },
  {
   "cell_type": "code",
   "execution_count": 36,
   "metadata": {},
   "outputs": [
    {
     "name": "stdout",
     "output_type": "stream",
     "text": [
      "Confusion Matrix\n",
      "[[254  76  23]\n",
      " [ 19 285  10]\n",
      " [  4   4 336]]\n"
     ]
    }
   ],
   "source": [
    "from sklearn.metrics import confusion_matrix\n",
    "print(\"Confusion Matrix\")\n",
    "print(confusion_matrix(y_val, y_pred))"
   ]
  },
  {
   "cell_type": "code",
   "execution_count": 37,
   "metadata": {
    "scrolled": true
   },
   "outputs": [
    {
     "name": "stdout",
     "output_type": "stream",
     "text": [
      "Classification Report\n",
      "              precision    recall  f1-score   support\n",
      "\n",
      "           0       0.92      0.72      0.81       353\n",
      "           1       0.78      0.91      0.84       314\n",
      "           2       0.91      0.98      0.94       344\n",
      "\n",
      "    accuracy                           0.87      1011\n",
      "   macro avg       0.87      0.87      0.86      1011\n",
      "weighted avg       0.87      0.87      0.86      1011\n",
      "\n"
     ]
    }
   ],
   "source": [
    "from sklearn.metrics import classification_report\n",
    "print(\"Classification Report\")\n",
    "print(classification_report(y_val, y_pred))"
   ]
  },
  {
   "cell_type": "markdown",
   "metadata": {},
   "source": [
    "# Modelling"
   ]
  },
  {
   "cell_type": "markdown",
   "metadata": {},
   "source": [
    "#  evaluate a suite of different machine learning models on the dataset"
   ]
  },
  {
   "cell_type": "code",
   "execution_count": 38,
   "metadata": {},
   "outputs": [],
   "source": [
    "# compare standalone models for binary classification\n",
    "from numpy import mean\n",
    "from numpy import std\n",
    "from sklearn.datasets import make_classification\n",
    "from sklearn.model_selection import cross_val_score\n",
    "from sklearn.model_selection import RepeatedStratifiedKFold\n",
    "from sklearn.linear_model import LogisticRegression\n",
    "from sklearn.neighbors import KNeighborsClassifier\n",
    "from sklearn.tree import DecisionTreeClassifier\n",
    "from sklearn.svm import SVC\n",
    "from sklearn.naive_bayes import GaussianNB\n",
    "from matplotlib import pyplot"
   ]
  },
  {
   "cell_type": "code",
   "execution_count": 39,
   "metadata": {},
   "outputs": [],
   "source": [
    "# get a list of models to evaluate\n",
    "def get_models():\n",
    "    models = dict()\n",
    "    models['lr'] = LogisticRegression()\n",
    "    models['knn'] = KNeighborsClassifier()\n",
    "    models['cart'] = DecisionTreeClassifier()\n",
    "    models['svm'] = SVC()\n",
    "    models['bayes'] = GaussianNB()\n",
    "    return models"
   ]
  },
  {
   "cell_type": "code",
   "execution_count": 40,
   "metadata": {},
   "outputs": [],
   "source": [
    "# evaluate a given model using cross-validation\n",
    "#The evaluate_model() function below takes a model instance and returns a list of scores from three repeats of stratified 10-fold cross-validation.\n",
    "\n",
    "def evaluate_model(model,X_train, y_train):\n",
    "    cv = RepeatedStratifiedKFold(n_splits=10, n_repeats=3, random_state=1)\n",
    "    scores = cross_val_score(model, X_train, y_train, scoring='accuracy', cv=cv, n_jobs=-1, error_score='raise')\n",
    "    return scores"
   ]
  },
  {
   "cell_type": "code",
   "execution_count": 41,
   "metadata": {},
   "outputs": [
    {
     "name": "stdout",
     "output_type": "stream",
     "text": [
      ">lr 0.54 (0.03)\n",
      ">knn 0.78 (0.02)\n",
      ">cart 0.86 (0.02)\n",
      ">svm 0.49 (0.03)\n",
      ">bayes 0.53 (0.03)\n"
     ]
    },
    {
     "data": {
      "image/png": "[encoded data removed]",
      "text/plain": [
       "<Figure size 432x288 with 1 Axes>"
      ]
     },
     "metadata": {},
     "output_type": "display_data"
    }
   ],
   "source": [
    "# get the models to evaluate\n",
    "models = get_models()\n",
    "# evaluate the models and store results\n",
    "results, names = list(), list()\n",
    "for name, model in models.items():\n",
    "    scores = evaluate_model(model, X_train, y_train)\n",
    "    results.append(scores)\n",
    "    names.append(name)\n",
    "    print('>%s %.2f (%.2f)' % (name, mean(scores), std(scores)))\n",
    "\n",
    "# plot model performance for comparison\n",
    "pyplot.boxplot(results, labels=names, showmeans=True)\n",
    "pyplot.show()"
   ]
  },
  {
   "cell_type": "code",
   "execution_count": 43,
   "metadata": {},
   "outputs": [
    {
     "name": "stdout",
     "output_type": "stream",
     "text": [
      "Decision Tree Classifier performed better with a mean accuracy of: 86%\n"
     ]
    }
   ],
   "source": [
    "print(\"Decision Tree Classifier performed better with a mean accuracy of: 86%\")"
   ]
  },
  {
   "cell_type": "markdown",
   "metadata": {},
   "source": []
  },
  {
   "cell_type": "markdown",
   "metadata": {},
   "source": [
    "IMPLEMENTING ENSEMBLE"
   ]
  },
  {
   "cell_type": "code",
   "execution_count": 42,
   "metadata": {},
   "outputs": [],
   "source": [
    "from sklearn.ensemble import StackingClassifier"
   ]
  },
  {
   "cell_type": "code",
   "execution_count": 44,
   "metadata": {},
   "outputs": [],
   "source": [
    "# get a stacking ensemble of models\n",
    "def get_stacking():\n",
    "    # define the base models\n",
    "    level0 = list()\n",
    "    level0.append(('lr', LogisticRegression()))\n",
    "    level0.append(('knn', KNeighborsClassifier()))\n",
    "    level0.append(('cart', DecisionTreeClassifier()))\n",
    "    level0.append(('svm', SVC()))\n",
    "    level0.append(('bayes', GaussianNB()))\n",
    "    # define meta learner model\n",
    "    level1 = LogisticRegression()\n",
    "    # define the stacking ensemble\n",
    "    model = StackingClassifier(estimators=level0, final_estimator=level1, cv=5)\n",
    "    return model"
   ]
  },
  {
   "cell_type": "code",
   "execution_count": 45,
   "metadata": {},
   "outputs": [],
   "source": [
    "# get a list of models to evaluate\n",
    "def get_models():\n",
    "    models = dict()\n",
    "    models['lr'] = LogisticRegression()\n",
    "    models['knn'] = KNeighborsClassifier()\n",
    "    models['cart'] = DecisionTreeClassifier()\n",
    "    models['svm'] = SVC()\n",
    "    models['bayes'] = GaussianNB()\n",
    "    models['stacking'] = get_stacking()\n",
    "    return models"
   ]
  },
  {
   "cell_type": "code",
   "execution_count": 46,
   "metadata": {
    "scrolled": true
   },
   "outputs": [
    {
     "name": "stdout",
     "output_type": "stream",
     "text": [
      ">lr 0.54 (0.03)\n",
      ">knn 0.78 (0.02)\n",
      ">cart 0.86 (0.02)\n",
      ">svm 0.49 (0.03)\n",
      ">bayes 0.53 (0.03)\n",
      ">stacking 0.86 (0.02)\n"
     ]
    },
    {
     "data": {
      "image/png": "[encoded data removed]",
      "text/plain": [
       "<Figure size 432x288 with 1 Axes>"
      ]
     },
     "metadata": {},
     "output_type": "display_data"
    },
    {
     "name": "stdout",
     "output_type": "stream",
     "text": [
      "\n",
      "Decision Tree and Stacking model performed better with a mean accuracy of 86%\n"
     ]
    }
   ],
   "source": [
    "# get the models to evaluate\n",
    "models = get_models()\n",
    "# evaluate the models and store results\n",
    "results, names = list(), list()\n",
    "for name, model in models.items():\n",
    "    scores = evaluate_model(model, X_train, y_train)\n",
    "    results.append(scores)\n",
    "    names.append(name)\n",
    "    print('>%s %.2f (%.2f)' % (name, mean(scores), std(scores)))\n",
    "# plot model performance for comparison\n",
    "pyplot.boxplot(results, labels=names, showmeans=True)\n",
    "pyplot.show()\n",
    "\n",
    "print()\n",
    "print(\"Decision Tree and Stacking model performed better with a mean accuracy of 86%\")"
   ]
  },
  {
   "cell_type": "markdown",
   "metadata": {},
   "source": [
    "# MAKE A PREDICTION WITH DECISION TREE CLASSIFIER"
   ]
  },
  {
   "cell_type": "code",
   "execution_count": 47,
   "metadata": {},
   "outputs": [
    {
     "name": "stdout",
     "output_type": "stream",
     "text": [
      "Predicted Class: 2\n",
      "This implies that the fault severity is high\n"
     ]
    }
   ],
   "source": [
    "cart = DecisionTreeClassifier()\n",
    "cart.fit(X, y)\n",
    "\n",
    "# make a prediction for one example\n",
    "data = [[86,213,21,5]]\n",
    "predicted_fault = cart.predict(data)\n",
    "print('Predicted Class: %d' % (predicted_fault))\n",
    "if predicted_fault == 0:\n",
    "    print(\"This implies that the fault severity is low\")\n",
    "elif predicted_fault == 1:\n",
    "    print(\"This implies that the fault severity is medium\")\n",
    "elif predicted_fault == 2:\n",
    "    print(\"This implies that the fault severity is high\")\n",
    "else:\n",
    "    print(\"Fault can not be categorised\")"
   ]
  },
  {
   "cell_type": "markdown",
   "metadata": {},
   "source": [
    "# Save the Model using Pickle"
   ]
  },
  {
   "cell_type": "code",
   "execution_count": 48,
   "metadata": {},
   "outputs": [],
   "source": [
    "# save the model to disk\n",
    "import pickle\n",
    "\n",
    "filename = 'faultSeverity_classifierModel.sav'\n",
    "pickle.dump(cart, open(filename, 'wb'))"
   ]
  },
  {
   "cell_type": "markdown",
   "metadata": {},
   "source": [
    "Save the Pickled Model on the Test Data"
   ]
  },
  {
   "cell_type": "code",
   "execution_count": 49,
   "metadata": {},
   "outputs": [
    {
     "name": "stdout",
     "output_type": "stream",
     "text": [
      "Estimated accuracy of the model on unseen data is:  0.9703264094955489\n"
     ]
    }
   ],
   "source": [
    "# load the model from disk\n",
    "loadedModel = pickle.load(open(filename, 'rb'))\n",
    "result = loadedModel.score(X_test, y_test)\n",
    "print(\"Estimated accuracy of the model on unseen data is: \", result)"
   ]
  },
  {
   "cell_type": "code",
   "execution_count": null,
   "metadata": {},
   "outputs": [],
   "source": []
  }
 ],
 "metadata": {
  "kernelspec": {
   "display_name": "Python 3",
   "language": "python",
   "name": "python3"
  },
  "language_info": {
   "codemirror_mode": {
    "name": "ipython",
    "version": 3
   },
   "file_extension": ".py",
   "mimetype": "text/x-python",
   "name": "python",
   "nbconvert_exporter": "python",
   "pygments_lexer": "ipython3",
   "version": "3.8.5"
  }
 },
 "nbformat": 4,
 "nbformat_minor": 4
}
